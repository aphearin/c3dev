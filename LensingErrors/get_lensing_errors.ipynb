{
 "cells": [
  {
   "cell_type": "markdown",
   "metadata": {},
   "source": [
    "# Imports"
   ]
  },
  {
   "cell_type": "markdown",
   "metadata": {},
   "source": [
    "This is a notebook that you can use to generate predictions for the errors on g-g lensing. To use this notebook, you need to install colossus by Benedikt Diemer. Colossus was recently upgraded, we have not checked if this works with the latest version. You also need to specify certain parameters (e.g. bias of lens sample, properties of source sample).\n",
    "The code only gives you the errors, not the amplitude of the Delta Sigma signal."
   ]
  },
  {
   "cell_type": "code",
   "execution_count": 1,
   "metadata": {
    "collapsed": false
   },
   "outputs": [],
   "source": [
    "%matplotlib inline\n",
    "\n",
    "#import camb\n",
    "#pars = camb.CAMBparams()\n",
    "from scipy.special import jn, jn_zeros\n",
    "#from camb import model, initialpower\n",
    "from scipy.interpolate import interp1d\n",
    "from hankel_transform import *\n",
    "from colossus.cosmology import cosmology\n",
    "import numpy as np\n",
    "from matplotlib import pylab as plt\n",
    "import matplotlib.colors as colors\n",
    "from astropy.cosmology import FlatLambdaCDM\n",
    "from astropy import constants as const\n",
    "\n",
    "import astropy.units as u\n",
    "#rc('text', usetex=False)"
   ]
  },
  {
   "cell_type": "code",
   "execution_count": 2,
   "metadata": {
    "collapsed": false
   },
   "outputs": [],
   "source": [
    "cosmo   = FlatLambdaCDM(H0=70.0, Om0=0.3)\n",
    "cosmoh1 = FlatLambdaCDM(H0=100.0,Om0=0.3)\n",
    "#print(cosmo.H(0))\n",
    "#print(cosmoh1.H(0))"
   ]
  },
  {
   "cell_type": "markdown",
   "metadata": {},
   "source": [
    "# Setting up the parameters for lensing and lens sample"
   ]
  },
  {
   "cell_type": "code",
   "execution_count": 3,
   "metadata": {
    "collapsed": false
   },
   "outputs": [],
   "source": [
    "zlens=0.2      # mean lens (foreground) redshift\n",
    "zlens_min=0.1  # lower z cut on lens sample \n",
    "zlens_max=0.3  # upper z cut on lens sample\n",
    "\n",
    "zsource=0.8   # source (background) redshift\n",
    "\n",
    "# These parameters are for a HSM-REGAUSS type shape measurements method\n",
    "# Shape noise\n",
    "sigma_e=.36\n",
    "\n",
    "# shape noise with responsivity factor\n",
    "sigma_gamma=sigma_e/1.7\n",
    "\n",
    "# number of background galaxies in units of N/arcmin^2\n",
    "ns_angular = 18\n",
    "\n",
    "# b of lens sample\n",
    "# Bias value of the DESI BGS sample \n",
    "blens=1.33636828\n",
    "\n",
    "# Space density of the lens sample\n",
    "# Get this from simulations\n",
    "n_g=0.005\n",
    "g_shot_noise=1./n_g\n",
    "\n",
    "# Overlap area between DESI and HSC area in deg^2\n",
    "area=1400"
   ]
  },
  {
   "cell_type": "code",
   "execution_count": 4,
   "metadata": {
    "collapsed": false
   },
   "outputs": [
    {
     "name": "stdout",
     "output_type": "stream",
     "text": [
      "937.2263584416348\n"
     ]
    }
   ],
   "source": [
    "# Convert this to a number of background galaxies in units\n",
    "# of N/(Mpc/h)^2 assuming the redshift of the lens sample\n",
    "# At the lens redshifts in comoving h^-1\n",
    "# Ang_distance = Transverse_size/theta_rad\n",
    "arcmin2rad  =  np.pi/(180.0*60)   \n",
    "transverse_size = (cosmoh1.angular_diameter_distance(zlens)*arcmin2rad)  #Mpc h^-1\n",
    "\n",
    "# This value looks a lot larger than the one in Sukhdeep's original code?\n",
    "n_s=ns_angular/np.square(transverse_size)  \n",
    "n_s = n_s.value\n",
    "print(n_s)\n",
    "\n",
    "# dont understand why these numbers are so different, using the one in Sukhdeeps code is\n",
    "# n_s=8\n",
    "# NEED TO FIX HERE\n",
    "\n",
    "# Bining in h^-1 Mpc\n",
    "r_bins=np.logspace(np.log10(0.1),np.log10(70),25)\n",
    "#print(r_bins)\n",
    "\n",
    "# Area in comoving units\n",
    "area_comoving=area*(np.pi/180)**2*cosmoh1.comoving_distance(z=zlens)**2\n",
    "\n",
    "# line of sight window lenght between Zmax and Zmin\n",
    "# redshift bins lens Mpc\n",
    "L_W=cosmoh1.comoving_distance(z=zlens_max)-cosmoh1.comoving_distance(z=zlens_min)\n",
    "vol=area_comoving*L_W\n",
    "vol=vol.value\n",
    "\n",
    "# this is the mean density at redshift zero\n",
    "# (check that this should be the mean, and not the critical)\n",
    "# RHO_MEAN(z)  = Omega_m(z) * Rho_c(z)\n",
    "rho=cosmoh1.critical_density0.to(u.Msun/(u.pc*u.pc*u.Mpc))*cosmoh1.Om0\n",
    "rho=rho.value"
   ]
  },
  {
   "cell_type": "code",
   "execution_count": 5,
   "metadata": {
    "collapsed": true
   },
   "outputs": [],
   "source": [
    "def sigma_crit(cosmo, zl, zs):\n",
    "    constant_term = const.c*const.c/(4*np.pi*const.G)\n",
    "    dist_term = cosmo.angular_diameter_distance(zs)/(cosmo.angular_diameter_distance_z1z2(zl,zs)*\\\n",
    "                                                     cosmo.angular_diameter_distance(zl))\n",
    "    \n",
    "    return (constant_term*dist_term*(1.0/(1+zl))**2).to(u.Msun/(u.pc*u.pc))"
   ]
  },
  {
   "cell_type": "code",
   "execution_count": 6,
   "metadata": {
    "collapsed": false
   },
   "outputs": [
    {
     "data": {
      "text/plain": [
       "562.0877441815603"
      ]
     },
     "execution_count": 6,
     "metadata": {},
     "output_type": "execute_result"
    }
   ],
   "source": [
    "# critical surface mass density\n",
    "# h inverse with 1+z factors comoving\n",
    "my_val = sigma_crit(cosmoh1, zlens, zsource)\n",
    " \n",
    "sigma_crit=my_val.value\n",
    "shape_noise=sigma_crit**2*sigma_gamma**2/n_s#*cosmo.H_z(z=0.27)/cosmo.c\n",
    "shape_noise "
   ]
  },
  {
   "cell_type": "markdown",
   "metadata": {},
   "source": [
    "# Get power spectrum"
   ]
  },
  {
   "cell_type": "code",
   "execution_count": 7,
   "metadata": {
    "collapsed": true
   },
   "outputs": [],
   "source": [
    "# Set up a new set of parameters for CAMB\n",
    "# Here this is getting the non-linear matter power spectrum\n",
    "kmax=30\n",
    "kmin=.8e-3\n",
    "k_smooth=1\n",
    "\n",
    "# Note: CAMB automaticaly samples in log space\n",
    "nk=5000\n",
    "rmin=.6\n",
    "rmax=110\n",
    "non_linear=1\n",
    "\n",
    "# We will test the differences between linear and non linear together with Sukhdeep\n",
    "\n",
    "#pars = camb.CAMBparams()\n",
    "#This function sets up CosmoMC-like settings, with one massive neutrino and helium set using BBN consistency\n",
    "#pars.set_cosmology(H0=67.27, ombh2=0.022250, omch2=0.119800, mnu=0.06, omk=0, tau=0.06)\n",
    "#pars.InitPower.set_params(ns=0.965, r=0,As =2.14e-09)\n",
    "#pars.set_for_lmax(2500, lens_potential_accuracy=0)\n",
    "\n",
    "# This is the redshift of the lens sample\n",
    "#zb=[.27]#\n",
    "#pars.set_matter_power(redshifts=zb,kmax=kmax);\n",
    "#if non_linear==1:\n",
    "#    pars.NonLinear = model.NonLinear_both\n",
    "#else:\n",
    "#    pars.NonLinear = model.NonLinear_none\n",
    "#results = camb.get_results(pars)\n",
    "#kh, z, pk =results.get_matter_power_spectrum(minkh=kmin, maxkh=kmax, npoints =nk)\n",
    "\n",
    "# Use linear or non linear\n",
    "# Use linear but then test with Sukhdeep\n",
    "\n",
    "# what is zb here?\n",
    "# => lens Redshift"
   ]
  },
  {
   "cell_type": "code",
   "execution_count": 8,
   "metadata": {
    "collapsed": false
   },
   "outputs": [],
   "source": [
    "# define a vector of cosmological parameters\n",
    "# Here I think one needs h not 1\n",
    "\n",
    "my_cosmo = {'flat': True, 'H0': 73.0, 'Om0': 0.238, 'Ob0': 0.045714, 'sigma8': 0.74, 'ns': 0.951}\n",
    "# set my_cosmo to be the current cosmology\n",
    "cosmo = cosmology.setCosmology('my_cosmo', my_cosmo)"
   ]
  },
  {
   "cell_type": "code",
   "execution_count": 9,
   "metadata": {
    "collapsed": false
   },
   "outputs": [
    {
     "name": "stdout",
     "output_type": "stream",
     "text": [
      "0.005999839999999999\n",
      "5000\n"
     ]
    },
    {
     "data": {
      "image/png": "[encoded data removed]",
      "text/plain": [
       "<matplotlib.figure.Figure at 0x10fbdd8d0>"
      ]
     },
     "metadata": {
      "image/png": {
       "height": 159,
       "width": 182
      }
     },
     "output_type": "display_data"
    }
   ],
   "source": [
    "# input model spectrum for comparison\n",
    "# lka = np.arange(-4.,3.,0.02)\n",
    "#ka = 10.0**lka\n",
    "\n",
    "# Do we want the sampling in log?\n",
    "# Units of pk, make sure they are the same\n",
    "# ask for the P(k) camb to see if it we get the same thing\n",
    "\n",
    "# Sample in log space\n",
    "# In parctice, the hankel transform does its own interpolation later down the line anyway and so \n",
    "# it shouldn't matter though\n",
    "step=(kmax-kmin)/nk\n",
    "print(step)\n",
    "\n",
    "# Colosus assumed h/Mpc\n",
    "kh = np.arange(kmin,kmax,step)\n",
    "print(len(kh))\n",
    "\n",
    "# In Colossus, growth function needs to be applied here\n",
    "# The wavenumber k (in comoving h/Mpc)\n",
    "g2 = (cosmo.growthFactor(zlens))**2\n",
    "pk = cosmo.matterPowerSpectrum(kh, 'eh98')*g2\n",
    "cosmo.interpolation = True\n",
    "\n",
    "# plot input model P(k) \n",
    "\n",
    "plt.figure(figsize=(2,2))\n",
    "plt.xscale('log'); plt.yscale('log')\n",
    "plt.ylim(1.e-2, 1.e5); plt.xlim(1.e-4, 1.e2)\n",
    "plt.plot(kh, pk, c='slateblue', linewidth=2., label=r'$\\Lambda\\mathrm{CDM}:\\ \\Omega_{\\rm m}=%.1f\\ \\Omega_\\Lambda=%.1f$'%(cosmo.Om0,cosmo.OL0))\n",
    "plt.legend(frameon=False, loc='lower left', fontsize=7, scatterpoints=1)\n",
    "plt.xlabel(r'$k\\ (h\\rm\\ Mpc^{-1})$')\n",
    "plt.ylabel(r'$P(k)\\ (h^{-3}\\ \\rm Mpc^3)$')\n",
    "plt.grid(linestyle='dotted', c='lightgray')\n",
    "#plt.show()"
   ]
  },
  {
   "cell_type": "code",
   "execution_count": 10,
   "metadata": {
    "collapsed": false,
    "scrolled": true
   },
   "outputs": [
    {
     "name": "stdout",
     "output_type": "stream",
     "text": [
      "j-nu= 0  not enough zeros to cover kmin, increasing by  1000  to 29000\n",
      "nr: 1047\n",
      "CPU times: user 14 s, sys: 199 ms, total: 14.2 s\n",
      "Wall time: 14.2 s\n"
     ]
    }
   ],
   "source": [
    "#Setting up the Hankel Transform\n",
    "#This deals with the interpolation over the Bessel Functions\n",
    "#This part is slower. But only needs to be run once. \n",
    "#If you only need wgg, set j_nu=[0]. For wg+ (or \\Delta\\Sigma) use j_nu=[2]\n",
    "%time HT=hankel_transform(rmin=rmin,rmax=rmax,kmax=kmax,j_nu=[0],n_zeros=28000,kmin=kmin)\n",
    "#HT=hankel_transform(rmin=1,rmax=rmax,kmax=1,j_nu=[0,2],n_zeros=2800,kmin=1.e-2)#quick test... inaccurate"
   ]
  },
  {
   "cell_type": "code",
   "execution_count": 11,
   "metadata": {
    "collapsed": false
   },
   "outputs": [
    {
     "name": "stdout",
     "output_type": "stream",
     "text": [
      "[  2.57167663e-13   2.20420050e+04   2.64450688e+04 ...,   7.02522332e-06\n",
      "   4.68094020e-06   2.33919992e-06]\n"
     ]
    }
   ],
   "source": [
    "# Note to ourselves: get the h factors correct\n",
    "\n",
    "# CAMB version\n",
    "# the CAMB version computes at multipe redshifts\n",
    "# The [0] here is just taking the first redshifts\n",
    "#pk_taper=HT.taper(k=kh,pk=pk[0],large_k_lower=5,large_k_upper=kmax,low_k_lower=kmin,\n",
    "#                     low_k_upper=kmin*2)\n",
    "\n",
    "# This tapers to function at the edges to make it go to zero nicely\n",
    "# To avoid runing when you take the fourier transform\n",
    "pk_taper=HT.taper(k=kh,pk=pk,large_k_lower=5,large_k_upper=kmax,low_k_lower=kmin,\n",
    "                     low_k_upper=kmin*2)\n",
    "\n",
    "\n",
    "#need atleast k=10 and k=1.e-3 to get decent wgg for 1-100 Mpc/h range.\n",
    "print(pk_taper)"
   ]
  },
  {
   "cell_type": "raw",
   "metadata": {},
   "source": [
    "plot(kh,pk[0])\n",
    "plot(kh,pk_taper)\n",
    "xscale('log')\n",
    "yscale('log')\n",
    "xlim(1.e-4,30)\n",
    "ylim(1,5.e4)"
   ]
  },
  {
   "cell_type": "markdown",
   "metadata": {
    "collapsed": true
   },
   "source": [
    "# g-g Lensing covariance"
   ]
  },
  {
   "cell_type": "markdown",
   "metadata": {},
   "source": [
    "We are using the real-space DS(r_p) covariance expression from Sukhdeep Singh's paper, Eq 10.\n",
    "http://adsabs.harvard.edu/abs/2016arXiv161100752S\n",
    "\n",
    "Here we are using the part withuot the curly brackets (as explained later in the text, if you subtract DS around randoms to get the optimal estimator, you get rid of the curly brackets term)\n",
    "\n",
    "We are ignoring the connected $T_{g \\gamma g \\gamma}$ term, as it’s unlikely to be very important and is so much harder to calculate, and we are just keeping the $(P_{gg} + N_g) (P_{\\gamma \\gamma} + N_\\gamma) + P_{g \\gamma}^2$ stuff, so you have lens clustering and shot noise, cosmic shear and shape noise, and cosmic variance terms."
   ]
  },
  {
   "cell_type": "code",
   "execution_count": 12,
   "metadata": {
    "collapsed": false
   },
   "outputs": [
    {
     "name": "stdout",
     "output_type": "stream",
     "text": [
      "j-nu= 2  not enough zeros to cover kmin, increasing by  1000  to 61000\n",
      "j-nu= 2  not enough zeros to cover kmin, increasing by  1000  to 62000\n",
      "nr: 1046\n",
      "CPU times: user 30.7 s, sys: 541 ms, total: 31.2 s\n",
      "Wall time: 31.4 s\n"
     ]
    }
   ],
   "source": [
    "%time HT=hankel_transform(rmin=rmin,rmax=rmax,kmax=kmax,j_nu=[2],n_zeros=60000,kmin=kmin)"
   ]
  },
  {
   "cell_type": "code",
   "execution_count": 13,
   "metadata": {
    "collapsed": true
   },
   "outputs": [],
   "source": [
    "# cnvergence power spectrum\n",
    "# approximation\n",
    "# just integrating \n",
    "# Dchi2 is the integral over the window function\n",
    "Dchi2=900 #integral over product of window functions units is Mpc?\n",
    "p_kappa_kappa=pk*(rho)**2*Dchi2"
   ]
  },
  {
   "cell_type": "code",
   "execution_count": 14,
   "metadata": {
    "collapsed": true
   },
   "outputs": [],
   "source": [
    "p_g=blens**2*pk\n",
    "p_gk=blens*pk*rho"
   ]
  },
  {
   "cell_type": "code",
   "execution_count": 15,
   "metadata": {
    "collapsed": true
   },
   "outputs": [],
   "source": [
    "taper_kw=dict({'large_k_lower':10,'large_k_upper':kmax,'low_k_lower':kmin,'low_k_upper':kmin*1.2})"
   ]
  },
  {
   "cell_type": "code",
   "execution_count": 16,
   "metadata": {
    "collapsed": false
   },
   "outputs": [
    {
     "name": "stderr",
     "output_type": "stream",
     "text": [
      "/Users/alexie/Work/DESI/LensingPredictions/hankel_transform.py:130: RuntimeWarning: invalid value encountered in double_scalars\n",
      "  corr[i][j]=cov[i][j]/np.sqrt(cov[i][i]*cov[j][j])\n"
     ]
    }
   ],
   "source": [
    "# Pgg x Pgammagamma\n",
    "r,cov_ggkk=HT.projected_covariance(k_pk=kh,pk1=p_g+g_shot_noise,pk2=p_kappa_kappa+shape_noise,j_nu=2,taper=True,**taper_kw)\n",
    "r_re,cov_ggkk_re=HT.bin_cov(r=r,cov=cov_ggkk,r_bins=r_bins)\n",
    "corr=HT.corr_matrix(cov=cov_ggkk_re)"
   ]
  },
  {
   "cell_type": "code",
   "execution_count": 17,
   "metadata": {
    "collapsed": false
   },
   "outputs": [
    {
     "name": "stderr",
     "output_type": "stream",
     "text": [
      "/Users/alexie/Work/DESI/LensingPredictions/hankel_transform.py:130: RuntimeWarning: invalid value encountered in double_scalars\n",
      "  corr[i][j]=cov[i][j]/np.sqrt(cov[i][i]*cov[j][j])\n"
     ]
    }
   ],
   "source": [
    "# g gamma ^2\n",
    "r,cov_gkgk=HT.projected_covariance(k_pk=kh,pk1=p_gk,pk2=p_gk,\n",
    "                               kmax=100,rmin=.8,j_nu=2,rmax=110,n_zeros=3500)#return_Jrr=True,Jrr=Jrr\n",
    "cov_gkgk*=Dchi2\n",
    "r_re,cov_gkgk_re=HT.bin_cov(r=r,cov=cov_gkgk,r_bins=r_bins)\n",
    "corr=HT.corr_matrix(cov=cov_gkgk_re)"
   ]
  },
  {
   "cell_type": "code",
   "execution_count": 18,
   "metadata": {
    "collapsed": false
   },
   "outputs": [
    {
     "name": "stdout",
     "output_type": "stream",
     "text": [
      "[ 0.          0.          0.          0.          0.          0.\n",
      "  0.04999221  0.03721046  0.02782314  0.02397651  0.01746302  0.01466338\n",
      "  0.01291154  0.01279295  0.01396142  0.01656504  0.02026576  0.02488914\n",
      "  0.03015268  0.0357826   0.04132782  0.0461428   0.04943211  0.04984931]\n"
     ]
    },
    {
     "name": "stderr",
     "output_type": "stream",
     "text": [
      "/Users/alexie/Work/DESI/LensingPredictions/hankel_transform.py:130: RuntimeWarning: invalid value encountered in double_scalars\n",
      "  corr[i][j]=cov[i][j]/np.sqrt(cov[i][i]*cov[j][j])\n"
     ]
    }
   ],
   "source": [
    "cov_final=(cov_ggkk_re+cov_gkgk_re)/vol\n",
    "corr=HT.corr_matrix(cov=cov_final)\n",
    "errors=HT.diagonal_err(cov=cov_final)\n",
    "\n",
    "#Errors\n",
    "print(errors)"
   ]
  },
  {
   "cell_type": "code",
   "execution_count": null,
   "metadata": {
    "collapsed": false
   },
   "outputs": [],
   "source": [
    "\n",
    "plt.pcolor(r_re,r_re,corr,norm=colors.LogNorm())\n",
    "plt.colorbar()\n",
    "plt.xscale('log')\n",
    "plt.yscale('log')\n",
    "plt.xlim(HT.rmin,HT.rmax)\n",
    "plt.ylim(HT.rmin,HT.rmax)"
   ]
  },
  {
   "cell_type": "raw",
   "metadata": {
    "collapsed": true
   },
   "source": [
    "error_qpm=np.genfromtxt('../data/qpm_DS_error_th.dat',names=True)"
   ]
  },
  {
   "cell_type": "code",
   "execution_count": null,
   "metadata": {
    "collapsed": false
   },
   "outputs": [],
   "source": [
    "# This are the values at the middle of the bins\n",
    "print(r_re)\n",
    "print(errors)\n",
    "\n",
    "# These are the errors on DS\n",
    "plt.plot(r_re,errors,label='new')\n",
    "#plot(error_qpm['rp'],error_qpm['rp']*error_qpm['DS_err_gR'])\n",
    "plt.xscale('log')\n",
    "plt.yscale('log')\n",
    "plt.legend()\n",
    "plt.xlim(0.1,100)"
   ]
  }
 ],
 "metadata": {
  "kernelspec": {
   "display_name": "Python 3",
   "language": "python",
   "name": "python3"
  },
  "language_info": {
   "codemirror_mode": {
    "name": "ipython",
    "version": 3
   },
   "file_extension": ".py",
   "mimetype": "text/x-python",
   "name": "python",
   "nbconvert_exporter": "python",
   "pygments_lexer": "ipython3",
   "version": "3.6.0"
  }
 },
 "nbformat": 4,
 "nbformat_minor": 1
}
