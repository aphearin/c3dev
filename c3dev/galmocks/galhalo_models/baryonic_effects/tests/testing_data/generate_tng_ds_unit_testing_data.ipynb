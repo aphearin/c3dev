{
 "cells": [
  {
   "cell_type": "code",
   "execution_count": 1,
   "id": "a224b75e",
   "metadata": {},
   "outputs": [
    {
     "name": "stdout",
     "output_type": "stream",
     "text": [
      "['gass_mass', 'dm_mass', 'tracer_mass', 'stellar_mass', 'bh_mass', 'x', 'y', 'z', 'SubhaloGrNr', 'SubhaloMass', 'M200c', 'M_acc_dyn', 'c200c', 'DS_TNG', 'DS_TNG_DARK', 'DS_ratio', 'lgMsub', 'p_M_acc_dyn', 'p_stellar_mass', 'p_gass_mass', 'p_c200c']\n"
     ]
    }
   ],
   "source": [
    "import os\n",
    "from c3dev.galmocks.galhalo_models.baryonic_effects.load_tng_ds_fitting_data import load_tng_megafile\n",
    "\n",
    "\n",
    "tng_megafile_0d3, lgrbins = load_tng_megafile(bnpat='0d3')\n",
    "tng_megafile_0d5, lgrbins = load_tng_megafile(bnpat='0d5')\n",
    "tng_megafile_1d0, lgrbins = load_tng_megafile(bnpat='1d0')\n",
    "ztargets = np.array((0.3, 0.5, 1.0))\n",
    "\n",
    "lgrmids = 0.5*(lgrbins[:-1] + lgrbins[1:])\n",
    "lgrarr = np.linspace(-1.5, 2, 500)\n",
    "\n",
    "print(tng_megafile_0d3.keys())\n",
    "pkey = 'p_c200c'"
   ]
  },
  {
   "cell_type": "code",
   "execution_count": 2,
   "id": "1e3dcb30",
   "metadata": {},
   "outputs": [],
   "source": [
    "from c3dev.galmocks.galhalo_models import baryonic_effects as beff\n",
    "\n",
    "args = tng_megafile_0d3, tng_megafile_0d5, tng_megafile_1d0\n",
    "lgmh_bins, tng_ds_target_data = beff.load_tng_ds_fitting_data.measure_target_data_unit_testing(*args)"
   ]
  },
  {
   "cell_type": "code",
   "execution_count": 3,
   "id": "2c637aad",
   "metadata": {},
   "outputs": [],
   "source": [
    "def _mse(pred, target):\n",
    "    diff = pred - target\n",
    "    return jnp.mean(diff**2)"
   ]
  },
  {
   "cell_type": "code",
   "execution_count": 4,
   "id": "0710851f",
   "metadata": {},
   "outputs": [
    {
     "name": "stdout",
     "output_type": "stream",
     "text": [
      "lgm=12.5, loss=0.010\n",
      "lgm=12.9, loss=0.007\n",
      "lgm=13.4, loss=0.008\n",
      "lgm=13.8, loss=0.015\n",
      "lgm=14.2, loss=0.022\n"
     ]
    },
    {
     "data": {
      "image/png": "[encoded data removed]",
      "text/plain": [
       "<Figure size 432x288 with 1 Axes>"
      ]
     },
     "metadata": {},
     "output_type": "display_data"
    }
   ],
   "source": [
    "import matplotlib.cm as cm\n",
    "from c3dev.galmocks.galhalo_models.baryonic_effects.ds_baryonification import deltabar_ds\n",
    "\n",
    "fig, ax = plt.subplots(1, 1)\n",
    "xscale = ax.set_xscale('log')\n",
    "ylim = ax.set_ylim(-0.34, 0.34)\n",
    "xlim = ax.set_xlim(0.05, 50)\n",
    "__=ax.plot(np.logspace(-2, 2, 500), np.zeros(500), ':', color='k')\n",
    "\n",
    "iz = 2\n",
    "\n",
    "colors=cm.coolwarm(np.linspace(0, 1, lgmh_bins.size)) # blue first\n",
    "for im in range(lgmh_bins.size):\n",
    "    delta_bar_target = tng_ds_target_data[iz, im, :]\n",
    "    __=ax.plot(10**lgrmids, delta_bar_target, color=colors[im])\n",
    "\n",
    "    xx = np.zeros(1)\n",
    "    delta_bar_pred = deltabar_ds(lgrmids, xx+ztargets[iz], xx+lgmh_bins[im], xx+0.5).flatten()\n",
    "    __=ax.plot(10**lgrmids, delta_bar_pred, '--', color=colors[im], lw=1)\n",
    "    \n",
    "    loss = jnp.sqrt(_mse(delta_bar_pred, delta_bar_target))\n",
    "    print(\"lgm={0:.1f}, loss={1:.3f}\".format(lgmh_bins[im], loss))\n"
   ]
  },
  {
   "cell_type": "code",
   "execution_count": null,
   "id": "960bb1cc",
   "metadata": {},
   "outputs": [],
   "source": []
  },
  {
   "cell_type": "code",
   "execution_count": 7,
   "id": "166fadaf",
   "metadata": {},
   "outputs": [],
   "source": [
    "import os\n",
    "outdrn1 = \"/Users/aphearin/work/repositories/python/c3dev/c3dev/galmocks\"\n",
    "outdrn2 = \"galhalo_models/baryonic_effects/tests/testing_data\"\n",
    "outdrn = os.path.join(outdrn1, outdrn2)\n",
    "np.savetxt(os.path.join(outdrn, 'lgrmids.txt'), lgrmids)\n",
    "np.savetxt(os.path.join(outdrn, 'lgmh_bins.txt'), lgmh_bins)\n",
    "np.save(os.path.join(outdrn, 'tng_ds_target_data'), tng_ds_target_data)\n"
   ]
  },
  {
   "cell_type": "code",
   "execution_count": null,
   "id": "0bbef92f",
   "metadata": {},
   "outputs": [],
   "source": []
  },
  {
   "cell_type": "code",
   "execution_count": null,
   "id": "e5204960",
   "metadata": {},
   "outputs": [],
   "source": []
  },
  {
   "cell_type": "code",
   "execution_count": null,
   "id": "8826e9b6",
   "metadata": {},
   "outputs": [],
   "source": []
  }
 ],
 "metadata": {
  "kernelspec": {
   "display_name": "Python 3 (ipykernel)",
   "language": "python",
   "name": "python3"
  },
  "language_info": {
   "codemirror_mode": {
    "name": "ipython",
    "version": 3
   },
   "file_extension": ".py",
   "mimetype": "text/x-python",
   "name": "python",
   "nbconvert_exporter": "python",
   "pygments_lexer": "ipython3",
   "version": "3.11.4"
  }
 },
 "nbformat": 4,
 "nbformat_minor": 5
}
